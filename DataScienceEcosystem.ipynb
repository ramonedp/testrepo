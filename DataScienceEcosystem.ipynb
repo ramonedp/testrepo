{
 "cells": [
  {
   "cell_type": "markdown",
   "id": "d559eb3a-a9f9-40fb-8738-d391f9dacb8d",
   "metadata": {},
   "source": [
    "# Data Sciense Tools and Ecosystem"
   ]
  },
  {
   "cell_type": "markdown",
   "id": "20d17fca-238b-4471-8351-fd3fbd139b53",
   "metadata": {},
   "source": [
    "In this notebook, Data Science Tools and Ecosystem are summarized."
   ]
  },
  {
   "cell_type": "markdown",
   "id": "3fb5d33e-2983-4014-9b8e-d2eefcc0f4c0",
   "metadata": {},
   "source": [
    "**Objectives:**\n",
    "- List popular languages for Data Science\n",
    "- List commonly used libraries used in Data Sciense\n",
    "- Create markdowns with lists, tables and text formats"
   ]
  },
  {
   "cell_type": "markdown",
   "id": "18c808ea-fd2c-4062-86b4-fb3e0fef3019",
   "metadata": {},
   "source": [
    "Some of the popular languages that Data Scientists use are:\n",
    "1. Python\n",
    "2. R\n",
    "3. Java\n",
    "4. SQL\n",
    "5. C"
   ]
  },
  {
   "cell_type": "markdown",
   "id": "47953df3-dfc3-439e-abec-735b79c56fd5",
   "metadata": {},
   "source": [
    "Some of the commonly used libraries used by Data Scientists include:\n",
    "- NumPy\n",
    "- Matplotlib \n",
    "- Pandas"
   ]
  },
  {
   "cell_type": "markdown",
   "id": "45e06474-5782-406b-84ab-18b9589ff019",
   "metadata": {},
   "source": [
    "| Data Science Tools |\n",
    "-----\n",
    "| JupyterLab |\n",
    "| RStudio |\n",
    "| IBM Watson Studio |\n"
   ]
  },
  {
   "cell_type": "markdown",
   "id": "84d7e080-e712-4e3e-820b-0a8febfcf514",
   "metadata": {},
   "source": [
    "### Below are a few examples of evaluating arithmetic expressions in Python"
   ]
  },
  {
   "cell_type": "code",
   "execution_count": 1,
   "id": "d07ffd01-38be-4e4c-a476-28ad342da679",
   "metadata": {
    "tags": []
   },
   "outputs": [
    {
     "data": {
      "text/plain": [
       "17"
      ]
     },
     "execution_count": 1,
     "metadata": {},
     "output_type": "execute_result"
    }
   ],
   "source": [
    "# This a simple arithmetic expression to mutiply then add integers\n",
    "(3*4)+5"
   ]
  },
  {
   "cell_type": "code",
   "execution_count": 2,
   "id": "59849399-2518-4c2a-a7e9-ae2f6e895cb4",
   "metadata": {
    "tags": []
   },
   "outputs": [
    {
     "data": {
      "text/plain": [
       "3.3333333333333335"
      ]
     },
     "execution_count": 2,
     "metadata": {},
     "output_type": "execute_result"
    }
   ],
   "source": [
    "# This will convert 200 minutes to hours by diving by 60\n",
    "200/60"
   ]
  },
  {
   "cell_type": "markdown",
   "id": "0a556018-ff6d-4856-8a63-0153d988bed7",
   "metadata": {},
   "source": [
    "## Author\n",
    "Ramón Díaz"
   ]
  },
  {
   "cell_type": "code",
   "execution_count": null,
   "id": "7a738b21-2a39-444b-b2c5-ed12d1d141d8",
   "metadata": {},
   "outputs": [],
   "source": []
  }
 ],
 "metadata": {
  "kernelspec": {
   "display_name": "Python",
   "language": "python",
   "name": "conda-env-python-py"
  },
  "language_info": {
   "codemirror_mode": {
    "name": "ipython",
    "version": 3
   },
   "file_extension": ".py",
   "mimetype": "text/x-python",
   "name": "python",
   "nbconvert_exporter": "python",
   "pygments_lexer": "ipython3",
   "version": "3.7.12"
  }
 },
 "nbformat": 4,
 "nbformat_minor": 5
}
